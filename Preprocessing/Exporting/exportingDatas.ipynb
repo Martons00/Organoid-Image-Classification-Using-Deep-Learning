{
 "cells": [
  {
   "cell_type": "code",
   "execution_count": 9,
   "id": "1da29405",
   "metadata": {},
   "outputs": [],
   "source": [
    "import os\n",
    "import zipfile\n",
    "import torch\n",
    "import requests\n",
    "import json\n",
    "\n"
   ]
  },
  {
   "cell_type": "code",
   "execution_count": 31,
   "id": "54da0818",
   "metadata": {},
   "outputs": [],
   "source": [
    "url = '/Volumes/Elements/Organoides/Noyaux'\n",
    "url_dest = '/Volumes/Elements/Organoides/DatasetINRIA_Organoids.zip'"
   ]
  },
  {
   "cell_type": "code",
   "execution_count": 7,
   "id": "8b26eaf4",
   "metadata": {},
   "outputs": [],
   "source": [
    "# Leggi il token di accesso Zenodo dal file tokenZenodo.txt\n",
    "with open('tokenZenodo.txt', 'r') as token_file:\n",
    "    ACCESS_TOKEN = token_file.read().strip()\n"
   ]
  },
  {
   "cell_type": "code",
   "execution_count": 33,
   "id": "1b586285",
   "metadata": {},
   "outputs": [],
   "source": [
    "# Crea un archivio ZIP della cartella\n",
    "def create_zip_archive(folder_path, zip_name=None):\n",
    "    \"\"\"\n",
    "    Crea un archivio ZIP di una cartella mantenendo la struttura\n",
    "    \"\"\"\n",
    "    if zip_name is None:\n",
    "        zip_name = f\"{os.path.basename(folder_path)}.zip\"\n",
    "\n",
    "    print(f\"🗜️ Creando archivio ZIP: {zip_name}\")\n",
    "\n",
    "    with zipfile.ZipFile(zip_name, 'w', zipfile.ZIP_DEFLATED) as zipf:\n",
    "        for root, dirs, files in os.walk(folder_path):\n",
    "            for file in files:\n",
    "                file_path = os.path.join(root, file)\n",
    "                # Mantiene la struttura delle cartelle nell'archivio\n",
    "                arc_name = os.path.relpath(file_path, os.path.dirname(folder_path))\n",
    "                zipf.write(file_path, arc_name)\n",
    "                print(f\"  📁 Aggiunto: {arc_name}\")\n",
    "\n",
    "    # Mostra dimensione dell'archivio\n",
    "    zip_size = os.path.getsize(zip_name)\n",
    "    print(f\"✅ Archivio creato: {zip_name} ({zip_size/1024/1024:.2f} MB)\")\n",
    "    return zip_name"
   ]
  },
  {
   "cell_type": "code",
   "execution_count": 18,
   "id": "36dfd09b",
   "metadata": {},
   "outputs": [],
   "source": [
    "\n",
    "# Crea una nuova deposizione\n",
    "def create_deposition():\n",
    "    url = 'https://zenodo.org/api/deposit/depositions'\n",
    "    headers = {\"Content-Type\": \"application/json\"}\n",
    "    params = {'access_token': ACCESS_TOKEN}\n",
    "\n",
    "    data = {\n",
    "        'metadata': {\n",
    "            'title': 'Dataset_INRIA',\n",
    "            'description': 'Dataset of mice prostate Organoid after EDC effects from Paris and Nice laboratories. Cropped, 512x512 uint8.',\n",
    "            'creators': [{'name': 'Dataset_INRIA_organoid_EDC'}]\n",
    "        }\n",
    "    }\n",
    "\n",
    "    r = requests.post(url, params=params, data=json.dumps(data), headers=headers)\n",
    "    return r.json()\n",
    "\n",
    "# Carica il file\n",
    "def upload_file(deposition_id, file_path):\n",
    "    # Get bucket URL\n",
    "    url = f'https://zenodo.org/api/deposit/depositions/{deposition_id}'\n",
    "    params = {'access_token': ACCESS_TOKEN}\n",
    "    r = requests.get(url, params=params)\n",
    "    bucket_url = r.json()[\"links\"][\"bucket\"]\n",
    "\n",
    "    # Upload file\n",
    "    filename = os.path.basename(file_path)\n",
    "    with open(file_path, \"rb\") as fp:\n",
    "        r = requests.put(f\"{bucket_url}/{filename}\",\n",
    "                        data=fp,\n",
    "                        params=params)\n",
    "    return r.json()\n",
    "\n",
    "# Pubblica il dataset\n",
    "def publish_deposition(deposition_id):\n",
    "    url = f'https://zenodo.org/api/deposit/depositions/{deposition_id}/actions/publish'\n",
    "    params = {'access_token': ACCESS_TOKEN}\n",
    "    r = requests.post(url, params=params)\n",
    "    return r.json()\n"
   ]
  },
  {
   "cell_type": "code",
   "execution_count": 35,
   "id": "1c516d39",
   "metadata": {},
   "outputs": [
    {
     "name": "stdout",
     "output_type": "stream",
     "text": [
      "🗜️ Creando archivio ZIP: /Volumes/Elements/Organoides/DatasetINRIA_Organoids.zip\n"
     ]
    },
    {
     "ename": "OSError",
     "evalue": "[Errno 30] Read-only file system: '/Volumes/Elements/Organoides/DatasetINRIA_Organoids.zip'",
     "output_type": "error",
     "traceback": [
      "\u001b[0;31m---------------------------------------------------------------------------\u001b[0m",
      "\u001b[0;31mOSError\u001b[0m                                   Traceback (most recent call last)",
      "Cell \u001b[0;32mIn[35], line 4\u001b[0m\n\u001b[1;32m      2\u001b[0m folder_to_upload \u001b[38;5;241m=\u001b[39m url  \u001b[38;5;66;03m# Cambia con il percorso della tua cartella\u001b[39;00m\n\u001b[1;32m      3\u001b[0m zip_filename \u001b[38;5;241m=\u001b[39m url_dest  \u001b[38;5;66;03m# Nome dell'archivio\u001b[39;00m\n\u001b[0;32m----> 4\u001b[0m zip_path \u001b[38;5;241m=\u001b[39m \u001b[43mcreate_zip_archive\u001b[49m\u001b[43m(\u001b[49m\u001b[43mfolder_to_upload\u001b[49m\u001b[43m,\u001b[49m\u001b[43m \u001b[49m\u001b[43mzip_filename\u001b[49m\u001b[43m)\u001b[49m\n",
      "Cell \u001b[0;32mIn[33], line 11\u001b[0m, in \u001b[0;36mcreate_zip_archive\u001b[0;34m(folder_path, zip_name)\u001b[0m\n\u001b[1;32m      7\u001b[0m     zip_name \u001b[38;5;241m=\u001b[39m \u001b[38;5;124mf\u001b[39m\u001b[38;5;124m\"\u001b[39m\u001b[38;5;132;01m{\u001b[39;00mos\u001b[38;5;241m.\u001b[39mpath\u001b[38;5;241m.\u001b[39mbasename(folder_path)\u001b[38;5;132;01m}\u001b[39;00m\u001b[38;5;124m.zip\u001b[39m\u001b[38;5;124m\"\u001b[39m\n\u001b[1;32m      9\u001b[0m \u001b[38;5;28mprint\u001b[39m(\u001b[38;5;124mf\u001b[39m\u001b[38;5;124m\"\u001b[39m\u001b[38;5;124m🗜️ Creando archivio ZIP: \u001b[39m\u001b[38;5;132;01m{\u001b[39;00mzip_name\u001b[38;5;132;01m}\u001b[39;00m\u001b[38;5;124m\"\u001b[39m)\n\u001b[0;32m---> 11\u001b[0m \u001b[38;5;28;01mwith\u001b[39;00m \u001b[43mzipfile\u001b[49m\u001b[38;5;241;43m.\u001b[39;49m\u001b[43mZipFile\u001b[49m\u001b[43m(\u001b[49m\u001b[43mzip_name\u001b[49m\u001b[43m,\u001b[49m\u001b[43m \u001b[49m\u001b[38;5;124;43m'\u001b[39;49m\u001b[38;5;124;43mw\u001b[39;49m\u001b[38;5;124;43m'\u001b[39;49m\u001b[43m,\u001b[49m\u001b[43m \u001b[49m\u001b[43mzipfile\u001b[49m\u001b[38;5;241;43m.\u001b[39;49m\u001b[43mZIP_DEFLATED\u001b[49m\u001b[43m)\u001b[49m \u001b[38;5;28;01mas\u001b[39;00m zipf:\n\u001b[1;32m     12\u001b[0m     \u001b[38;5;28;01mfor\u001b[39;00m root, dirs, files \u001b[38;5;129;01min\u001b[39;00m os\u001b[38;5;241m.\u001b[39mwalk(folder_path):\n\u001b[1;32m     13\u001b[0m         \u001b[38;5;28;01mfor\u001b[39;00m file \u001b[38;5;129;01min\u001b[39;00m files:\n",
      "File \u001b[0;32m/Library/Frameworks/Python.framework/Versions/3.11/lib/python3.11/zipfile.py:1283\u001b[0m, in \u001b[0;36mZipFile.__init__\u001b[0;34m(self, file, mode, compression, allowZip64, compresslevel, strict_timestamps, metadata_encoding)\u001b[0m\n\u001b[1;32m   1281\u001b[0m \u001b[38;5;28;01mwhile\u001b[39;00m \u001b[38;5;28;01mTrue\u001b[39;00m:\n\u001b[1;32m   1282\u001b[0m     \u001b[38;5;28;01mtry\u001b[39;00m:\n\u001b[0;32m-> 1283\u001b[0m         \u001b[38;5;28mself\u001b[39m\u001b[38;5;241m.\u001b[39mfp \u001b[38;5;241m=\u001b[39m io\u001b[38;5;241m.\u001b[39mopen(file, filemode)\n\u001b[1;32m   1284\u001b[0m     \u001b[38;5;28;01mexcept\u001b[39;00m \u001b[38;5;167;01mOSError\u001b[39;00m:\n\u001b[1;32m   1285\u001b[0m         \u001b[38;5;28;01mif\u001b[39;00m filemode \u001b[38;5;129;01min\u001b[39;00m modeDict:\n",
      "\u001b[0;31mOSError\u001b[0m: [Errno 30] Read-only file system: '/Volumes/Elements/Organoides/DatasetINRIA_Organoids.zip'"
     ]
    }
   ],
   "source": [
    "# Percorso della cartella da caricare\n",
    "folder_to_upload = url  # Cambia con il percorso della tua cartella\n",
    "zip_filename = url_dest  # Nome dell'archivio\n",
    "zip_path = create_zip_archive(folder_to_upload, zip_filename)"
   ]
  },
  {
   "cell_type": "code",
   "execution_count": 14,
   "id": "89f671d6",
   "metadata": {},
   "outputs": [],
   "source": [
    "\n",
    "zip_filename = 'F:\\\\Organoids\\\\Organoids_Dataset.zip'"
   ]
  },
  {
   "cell_type": "code",
   "execution_count": 19,
   "id": "0c6e9e23",
   "metadata": {},
   "outputs": [
    {
     "name": "stdout",
     "output_type": "stream",
     "text": [
      "Creando deposizione...\n",
      "Caricando file... (ID: 17226162)\n"
     ]
    },
    {
     "ename": "SSLError",
     "evalue": "HTTPSConnectionPool(host='zenodo.org', port=443): Max retries exceeded with url: /api/files/d94770a3-e0a6-4a05-8d02-cb05b1379986/Organoids_Dataset.zip?access_token=U0zqp8XBVnIBb02RyY8r7z0uJFTR6orPzdDu0qrfkGqUpkVbJhuXS3Dv5OU5 (Caused by SSLError(SSLEOFError(8, 'EOF occurred in violation of protocol (_ssl.c:2427)')))",
     "output_type": "error",
     "traceback": [
      "\u001b[1;31m---------------------------------------------------------------------------\u001b[0m",
      "\u001b[1;31mSSLError\u001b[0m                                  Traceback (most recent call last)",
      "\u001b[1;31mSSLError\u001b[0m: EOF occurred in violation of protocol (_ssl.c:2427)",
      "\nThe above exception was the direct cause of the following exception:\n",
      "\u001b[1;31mMaxRetryError\u001b[0m                             Traceback (most recent call last)",
      "File \u001b[1;32md:\\Anaconda\\Lib\\site-packages\\requests\\adapters.py:486\u001b[0m, in \u001b[0;36mHTTPAdapter.send\u001b[1;34m(self, request, stream, timeout, verify, cert, proxies)\u001b[0m\n\u001b[0;32m    485\u001b[0m \u001b[38;5;28;01mtry\u001b[39;00m:\n\u001b[1;32m--> 486\u001b[0m     resp \u001b[38;5;241m=\u001b[39m conn\u001b[38;5;241m.\u001b[39murlopen(\n\u001b[0;32m    487\u001b[0m         method\u001b[38;5;241m=\u001b[39mrequest\u001b[38;5;241m.\u001b[39mmethod,\n\u001b[0;32m    488\u001b[0m         url\u001b[38;5;241m=\u001b[39murl,\n\u001b[0;32m    489\u001b[0m         body\u001b[38;5;241m=\u001b[39mrequest\u001b[38;5;241m.\u001b[39mbody,\n\u001b[0;32m    490\u001b[0m         headers\u001b[38;5;241m=\u001b[39mrequest\u001b[38;5;241m.\u001b[39mheaders,\n\u001b[0;32m    491\u001b[0m         redirect\u001b[38;5;241m=\u001b[39m\u001b[38;5;28;01mFalse\u001b[39;00m,\n\u001b[0;32m    492\u001b[0m         assert_same_host\u001b[38;5;241m=\u001b[39m\u001b[38;5;28;01mFalse\u001b[39;00m,\n\u001b[0;32m    493\u001b[0m         preload_content\u001b[38;5;241m=\u001b[39m\u001b[38;5;28;01mFalse\u001b[39;00m,\n\u001b[0;32m    494\u001b[0m         decode_content\u001b[38;5;241m=\u001b[39m\u001b[38;5;28;01mFalse\u001b[39;00m,\n\u001b[0;32m    495\u001b[0m         retries\u001b[38;5;241m=\u001b[39m\u001b[38;5;28mself\u001b[39m\u001b[38;5;241m.\u001b[39mmax_retries,\n\u001b[0;32m    496\u001b[0m         timeout\u001b[38;5;241m=\u001b[39mtimeout,\n\u001b[0;32m    497\u001b[0m         chunked\u001b[38;5;241m=\u001b[39mchunked,\n\u001b[0;32m    498\u001b[0m     )\n\u001b[0;32m    500\u001b[0m \u001b[38;5;28;01mexcept\u001b[39;00m (ProtocolError, \u001b[38;5;167;01mOSError\u001b[39;00m) \u001b[38;5;28;01mas\u001b[39;00m err:\n",
      "File \u001b[1;32md:\\Anaconda\\Lib\\site-packages\\urllib3\\connectionpool.py:845\u001b[0m, in \u001b[0;36mHTTPConnectionPool.urlopen\u001b[1;34m(self, method, url, body, headers, retries, redirect, assert_same_host, timeout, pool_timeout, release_conn, chunked, body_pos, preload_content, decode_content, **response_kw)\u001b[0m\n\u001b[0;32m    843\u001b[0m     new_e \u001b[38;5;241m=\u001b[39m ProtocolError(\u001b[38;5;124m\"\u001b[39m\u001b[38;5;124mConnection aborted.\u001b[39m\u001b[38;5;124m\"\u001b[39m, new_e)\n\u001b[1;32m--> 845\u001b[0m retries \u001b[38;5;241m=\u001b[39m retries\u001b[38;5;241m.\u001b[39mincrement(\n\u001b[0;32m    846\u001b[0m     method, url, error\u001b[38;5;241m=\u001b[39mnew_e, _pool\u001b[38;5;241m=\u001b[39m\u001b[38;5;28mself\u001b[39m, _stacktrace\u001b[38;5;241m=\u001b[39msys\u001b[38;5;241m.\u001b[39mexc_info()[\u001b[38;5;241m2\u001b[39m]\n\u001b[0;32m    847\u001b[0m )\n\u001b[0;32m    848\u001b[0m retries\u001b[38;5;241m.\u001b[39msleep()\n",
      "File \u001b[1;32md:\\Anaconda\\Lib\\site-packages\\urllib3\\util\\retry.py:515\u001b[0m, in \u001b[0;36mRetry.increment\u001b[1;34m(self, method, url, response, error, _pool, _stacktrace)\u001b[0m\n\u001b[0;32m    514\u001b[0m     reason \u001b[38;5;241m=\u001b[39m error \u001b[38;5;129;01mor\u001b[39;00m ResponseError(cause)\n\u001b[1;32m--> 515\u001b[0m     \u001b[38;5;28;01mraise\u001b[39;00m MaxRetryError(_pool, url, reason) \u001b[38;5;28;01mfrom\u001b[39;00m \u001b[38;5;21;01mreason\u001b[39;00m  \u001b[38;5;66;03m# type: ignore[arg-type]\u001b[39;00m\n\u001b[0;32m    517\u001b[0m log\u001b[38;5;241m.\u001b[39mdebug(\u001b[38;5;124m\"\u001b[39m\u001b[38;5;124mIncremented Retry for (url=\u001b[39m\u001b[38;5;124m'\u001b[39m\u001b[38;5;132;01m%s\u001b[39;00m\u001b[38;5;124m'\u001b[39m\u001b[38;5;124m): \u001b[39m\u001b[38;5;132;01m%r\u001b[39;00m\u001b[38;5;124m\"\u001b[39m, url, new_retry)\n",
      "\u001b[1;31mMaxRetryError\u001b[0m: HTTPSConnectionPool(host='zenodo.org', port=443): Max retries exceeded with url: /api/files/d94770a3-e0a6-4a05-8d02-cb05b1379986/Organoids_Dataset.zip?access_token=U0zqp8XBVnIBb02RyY8r7z0uJFTR6orPzdDu0qrfkGqUpkVbJhuXS3Dv5OU5 (Caused by SSLError(SSLEOFError(8, 'EOF occurred in violation of protocol (_ssl.c:2427)')))",
      "\nDuring handling of the above exception, another exception occurred:\n",
      "\u001b[1;31mSSLError\u001b[0m                                  Traceback (most recent call last)",
      "Cell \u001b[1;32mIn[19], line 7\u001b[0m\n\u001b[0;32m      4\u001b[0m deposition_id \u001b[38;5;241m=\u001b[39m deposition[\u001b[38;5;124m'\u001b[39m\u001b[38;5;124mid\u001b[39m\u001b[38;5;124m'\u001b[39m]\n\u001b[0;32m      6\u001b[0m \u001b[38;5;28mprint\u001b[39m(\u001b[38;5;124mf\u001b[39m\u001b[38;5;124m\"\u001b[39m\u001b[38;5;124mCaricando file... (ID: \u001b[39m\u001b[38;5;132;01m{\u001b[39;00mdeposition_id\u001b[38;5;132;01m}\u001b[39;00m\u001b[38;5;124m)\u001b[39m\u001b[38;5;124m\"\u001b[39m)\n\u001b[1;32m----> 7\u001b[0m upload_result \u001b[38;5;241m=\u001b[39m upload_file(deposition_id, zip_filename)\n\u001b[0;32m      9\u001b[0m \u001b[38;5;28mprint\u001b[39m(\u001b[38;5;124m\"\u001b[39m\u001b[38;5;124mPubblicando dataset...\u001b[39m\u001b[38;5;124m\"\u001b[39m)\n\u001b[0;32m     10\u001b[0m publication \u001b[38;5;241m=\u001b[39m publish_deposition(deposition_id)\n",
      "Cell \u001b[1;32mIn[18], line 29\u001b[0m, in \u001b[0;36mupload_file\u001b[1;34m(deposition_id, file_path)\u001b[0m\n\u001b[0;32m     27\u001b[0m filename \u001b[38;5;241m=\u001b[39m os\u001b[38;5;241m.\u001b[39mpath\u001b[38;5;241m.\u001b[39mbasename(file_path)\n\u001b[0;32m     28\u001b[0m \u001b[38;5;28;01mwith\u001b[39;00m \u001b[38;5;28mopen\u001b[39m(file_path, \u001b[38;5;124m\"\u001b[39m\u001b[38;5;124mrb\u001b[39m\u001b[38;5;124m\"\u001b[39m) \u001b[38;5;28;01mas\u001b[39;00m fp:\n\u001b[1;32m---> 29\u001b[0m     r \u001b[38;5;241m=\u001b[39m requests\u001b[38;5;241m.\u001b[39mput(\u001b[38;5;124mf\u001b[39m\u001b[38;5;124m\"\u001b[39m\u001b[38;5;132;01m{\u001b[39;00mbucket_url\u001b[38;5;132;01m}\u001b[39;00m\u001b[38;5;124m/\u001b[39m\u001b[38;5;132;01m{\u001b[39;00mfilename\u001b[38;5;132;01m}\u001b[39;00m\u001b[38;5;124m\"\u001b[39m,\n\u001b[0;32m     30\u001b[0m                     data\u001b[38;5;241m=\u001b[39mfp,\n\u001b[0;32m     31\u001b[0m                     params\u001b[38;5;241m=\u001b[39mparams)\n\u001b[0;32m     32\u001b[0m \u001b[38;5;28;01mreturn\u001b[39;00m r\u001b[38;5;241m.\u001b[39mjson()\n",
      "File \u001b[1;32md:\\Anaconda\\Lib\\site-packages\\requests\\api.py:130\u001b[0m, in \u001b[0;36mput\u001b[1;34m(url, data, **kwargs)\u001b[0m\n\u001b[0;32m    118\u001b[0m \u001b[38;5;28;01mdef\u001b[39;00m \u001b[38;5;21mput\u001b[39m(url, data\u001b[38;5;241m=\u001b[39m\u001b[38;5;28;01mNone\u001b[39;00m, \u001b[38;5;241m*\u001b[39m\u001b[38;5;241m*\u001b[39mkwargs):\n\u001b[0;32m    119\u001b[0m \u001b[38;5;250m    \u001b[39m\u001b[38;5;124mr\u001b[39m\u001b[38;5;124;03m\"\"\"Sends a PUT request.\u001b[39;00m\n\u001b[0;32m    120\u001b[0m \n\u001b[0;32m    121\u001b[0m \u001b[38;5;124;03m    :param url: URL for the new :class:`Request` object.\u001b[39;00m\n\u001b[1;32m   (...)\u001b[0m\n\u001b[0;32m    127\u001b[0m \u001b[38;5;124;03m    :rtype: requests.Response\u001b[39;00m\n\u001b[0;32m    128\u001b[0m \u001b[38;5;124;03m    \"\"\"\u001b[39;00m\n\u001b[1;32m--> 130\u001b[0m     \u001b[38;5;28;01mreturn\u001b[39;00m request(\u001b[38;5;124m\"\u001b[39m\u001b[38;5;124mput\u001b[39m\u001b[38;5;124m\"\u001b[39m, url, data\u001b[38;5;241m=\u001b[39mdata, \u001b[38;5;241m*\u001b[39m\u001b[38;5;241m*\u001b[39mkwargs)\n",
      "File \u001b[1;32md:\\Anaconda\\Lib\\site-packages\\requests\\api.py:59\u001b[0m, in \u001b[0;36mrequest\u001b[1;34m(method, url, **kwargs)\u001b[0m\n\u001b[0;32m     55\u001b[0m \u001b[38;5;66;03m# By using the 'with' statement we are sure the session is closed, thus we\u001b[39;00m\n\u001b[0;32m     56\u001b[0m \u001b[38;5;66;03m# avoid leaving sockets open which can trigger a ResourceWarning in some\u001b[39;00m\n\u001b[0;32m     57\u001b[0m \u001b[38;5;66;03m# cases, and look like a memory leak in others.\u001b[39;00m\n\u001b[0;32m     58\u001b[0m \u001b[38;5;28;01mwith\u001b[39;00m sessions\u001b[38;5;241m.\u001b[39mSession() \u001b[38;5;28;01mas\u001b[39;00m session:\n\u001b[1;32m---> 59\u001b[0m     \u001b[38;5;28;01mreturn\u001b[39;00m session\u001b[38;5;241m.\u001b[39mrequest(method\u001b[38;5;241m=\u001b[39mmethod, url\u001b[38;5;241m=\u001b[39murl, \u001b[38;5;241m*\u001b[39m\u001b[38;5;241m*\u001b[39mkwargs)\n",
      "File \u001b[1;32md:\\Anaconda\\Lib\\site-packages\\requests\\sessions.py:589\u001b[0m, in \u001b[0;36mSession.request\u001b[1;34m(self, method, url, params, data, headers, cookies, files, auth, timeout, allow_redirects, proxies, hooks, stream, verify, cert, json)\u001b[0m\n\u001b[0;32m    584\u001b[0m send_kwargs \u001b[38;5;241m=\u001b[39m {\n\u001b[0;32m    585\u001b[0m     \u001b[38;5;124m\"\u001b[39m\u001b[38;5;124mtimeout\u001b[39m\u001b[38;5;124m\"\u001b[39m: timeout,\n\u001b[0;32m    586\u001b[0m     \u001b[38;5;124m\"\u001b[39m\u001b[38;5;124mallow_redirects\u001b[39m\u001b[38;5;124m\"\u001b[39m: allow_redirects,\n\u001b[0;32m    587\u001b[0m }\n\u001b[0;32m    588\u001b[0m send_kwargs\u001b[38;5;241m.\u001b[39mupdate(settings)\n\u001b[1;32m--> 589\u001b[0m resp \u001b[38;5;241m=\u001b[39m \u001b[38;5;28mself\u001b[39m\u001b[38;5;241m.\u001b[39msend(prep, \u001b[38;5;241m*\u001b[39m\u001b[38;5;241m*\u001b[39msend_kwargs)\n\u001b[0;32m    591\u001b[0m \u001b[38;5;28;01mreturn\u001b[39;00m resp\n",
      "File \u001b[1;32md:\\Anaconda\\Lib\\site-packages\\requests\\sessions.py:703\u001b[0m, in \u001b[0;36mSession.send\u001b[1;34m(self, request, **kwargs)\u001b[0m\n\u001b[0;32m    700\u001b[0m start \u001b[38;5;241m=\u001b[39m preferred_clock()\n\u001b[0;32m    702\u001b[0m \u001b[38;5;66;03m# Send the request\u001b[39;00m\n\u001b[1;32m--> 703\u001b[0m r \u001b[38;5;241m=\u001b[39m adapter\u001b[38;5;241m.\u001b[39msend(request, \u001b[38;5;241m*\u001b[39m\u001b[38;5;241m*\u001b[39mkwargs)\n\u001b[0;32m    705\u001b[0m \u001b[38;5;66;03m# Total elapsed time of the request (approximately)\u001b[39;00m\n\u001b[0;32m    706\u001b[0m elapsed \u001b[38;5;241m=\u001b[39m preferred_clock() \u001b[38;5;241m-\u001b[39m start\n",
      "File \u001b[1;32md:\\Anaconda\\Lib\\site-packages\\requests\\adapters.py:517\u001b[0m, in \u001b[0;36mHTTPAdapter.send\u001b[1;34m(self, request, stream, timeout, verify, cert, proxies)\u001b[0m\n\u001b[0;32m    513\u001b[0m         \u001b[38;5;28;01mraise\u001b[39;00m ProxyError(e, request\u001b[38;5;241m=\u001b[39mrequest)\n\u001b[0;32m    515\u001b[0m     \u001b[38;5;28;01mif\u001b[39;00m \u001b[38;5;28misinstance\u001b[39m(e\u001b[38;5;241m.\u001b[39mreason, _SSLError):\n\u001b[0;32m    516\u001b[0m         \u001b[38;5;66;03m# This branch is for urllib3 v1.22 and later.\u001b[39;00m\n\u001b[1;32m--> 517\u001b[0m         \u001b[38;5;28;01mraise\u001b[39;00m SSLError(e, request\u001b[38;5;241m=\u001b[39mrequest)\n\u001b[0;32m    519\u001b[0m     \u001b[38;5;28;01mraise\u001b[39;00m \u001b[38;5;167;01mConnectionError\u001b[39;00m(e, request\u001b[38;5;241m=\u001b[39mrequest)\n\u001b[0;32m    521\u001b[0m \u001b[38;5;28;01mexcept\u001b[39;00m ClosedPoolError \u001b[38;5;28;01mas\u001b[39;00m e:\n",
      "\u001b[1;31mSSLError\u001b[0m: HTTPSConnectionPool(host='zenodo.org', port=443): Max retries exceeded with url: /api/files/d94770a3-e0a6-4a05-8d02-cb05b1379986/Organoids_Dataset.zip?access_token=U0zqp8XBVnIBb02RyY8r7z0uJFTR6orPzdDu0qrfkGqUpkVbJhuXS3Dv5OU5 (Caused by SSLError(SSLEOFError(8, 'EOF occurred in violation of protocol (_ssl.c:2427)')))"
     ]
    }
   ],
   "source": [
    "# Esegui l'upload\n",
    "print(\"Creando deposizione...\")\n",
    "deposition = create_deposition()\n",
    "deposition_id = deposition['id']\n",
    "\n",
    "print(f\"Caricando file... (ID: {deposition_id})\")\n",
    "upload_result = upload_file(deposition_id, zip_filename)\n",
    "\n",
    "print(\"Pubblicando dataset...\")\n",
    "publication = publish_deposition(deposition_id)\n",
    "\n",
    "print(f\"Dataset pubblicato! DOI: {publication['doi']}\")\n",
    "print(f\"URL: {publication['links']['record_html']}\")\n"
   ]
  },
  {
   "cell_type": "code",
   "execution_count": 20,
   "id": "27142553",
   "metadata": {},
   "outputs": [
    {
     "name": "stdout",
     "output_type": "stream",
     "text": [
      "{'created': '2025-09-29T13:03:53.611052+00:00', 'modified': '2025-09-29T13:03:53.754162+00:00', 'id': 17226162, 'conceptrecid': '17226161', 'metadata': {'title': 'Dataset_INRIA', 'publication_date': '2025-09-29', 'description': 'Dataset of mice prostate Organoid after EDC effects from Paris and Nice laboratories. Cropped, 512x512 uint8.', 'access_right': 'open', 'creators': [{'name': 'Dataset_INRIA_organoid_EDC', 'affiliation': None}], 'license': 'cc-by-4.0', 'imprint_publisher': 'Zenodo', 'prereserve_doi': {'doi': '10.5281/zenodo.17226162', 'recid': 17226162}}, 'title': 'Dataset_INRIA', 'links': {'self': 'https://zenodo.org/api/deposit/depositions/17226162', 'html': 'https://zenodo.org/deposit/17226162', 'badge': 'https://zenodo.org/badge/doi/.svg', 'files': 'https://zenodo.org/api/deposit/depositions/17226162/files', 'bucket': 'https://zenodo.org/api/files/d94770a3-e0a6-4a05-8d02-cb05b1379986', 'latest_draft': 'https://zenodo.org/api/deposit/depositions/17226162', 'latest_draft_html': 'https://zenodo.org/deposit/17226162', 'publish': 'https://zenodo.org/api/deposit/depositions/17226162/actions/publish', 'edit': 'https://zenodo.org/api/deposit/depositions/17226162/actions/edit', 'discard': 'https://zenodo.org/api/deposit/depositions/17226162/actions/discard', 'newversion': 'https://zenodo.org/api/deposit/depositions/17226162/actions/newversion'}, 'record_id': 17226162, 'owner': 1400266, 'files': [], 'state': 'unsubmitted', 'submitted': False}\n"
     ]
    }
   ],
   "source": [
    "print(deposition)"
   ]
  }
 ],
 "metadata": {
  "kernelspec": {
   "display_name": "base",
   "language": "python",
   "name": "python3"
  },
  "language_info": {
   "codemirror_mode": {
    "name": "ipython",
    "version": 3
   },
   "file_extension": ".py",
   "mimetype": "text/x-python",
   "name": "python",
   "nbconvert_exporter": "python",
   "pygments_lexer": "ipython3",
   "version": "3.11.7"
  }
 },
 "nbformat": 4,
 "nbformat_minor": 5
}
