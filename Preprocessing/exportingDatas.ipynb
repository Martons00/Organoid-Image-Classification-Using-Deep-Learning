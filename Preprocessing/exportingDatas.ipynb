{
 "cells": [
  {
   "cell_type": "code",
   "execution_count": 21,
   "id": "1da29405",
   "metadata": {},
   "outputs": [],
   "source": [
    "import os\n",
    "import zipfile\n",
    "import torch\n",
    "import requests\n",
    "import json\n",
    "\n"
   ]
  },
  {
   "cell_type": "code",
   "execution_count": 31,
   "id": "54da0818",
   "metadata": {},
   "outputs": [],
   "source": [
    "url = '/Volumes/Elements/Organoides/Noyaux'\n",
    "url_dest = '/Volumes/Elements/Organoides/DatasetINRIA_Organoids.zip'"
   ]
  },
  {
   "cell_type": "code",
   "execution_count": 32,
   "id": "8b26eaf4",
   "metadata": {},
   "outputs": [],
   "source": [
    "# Leggi il token di accesso Zenodo dal file tokenZenodo.txt\n",
    "with open('tokenZenodo.txt', 'r') as token_file:\n",
    "    ACCESS_TOKEN = token_file.read().strip()\n"
   ]
  },
  {
   "cell_type": "code",
   "execution_count": 33,
   "id": "1b586285",
   "metadata": {},
   "outputs": [],
   "source": [
    "# Crea un archivio ZIP della cartella\n",
    "def create_zip_archive(folder_path, zip_name=None):\n",
    "    \"\"\"\n",
    "    Crea un archivio ZIP di una cartella mantenendo la struttura\n",
    "    \"\"\"\n",
    "    if zip_name is None:\n",
    "        zip_name = f\"{os.path.basename(folder_path)}.zip\"\n",
    "\n",
    "    print(f\"🗜️ Creando archivio ZIP: {zip_name}\")\n",
    "\n",
    "    with zipfile.ZipFile(zip_name, 'w', zipfile.ZIP_DEFLATED) as zipf:\n",
    "        for root, dirs, files in os.walk(folder_path):\n",
    "            for file in files:\n",
    "                file_path = os.path.join(root, file)\n",
    "                # Mantiene la struttura delle cartelle nell'archivio\n",
    "                arc_name = os.path.relpath(file_path, os.path.dirname(folder_path))\n",
    "                zipf.write(file_path, arc_name)\n",
    "                print(f\"  📁 Aggiunto: {arc_name}\")\n",
    "\n",
    "    # Mostra dimensione dell'archivio\n",
    "    zip_size = os.path.getsize(zip_name)\n",
    "    print(f\"✅ Archivio creato: {zip_name} ({zip_size/1024/1024:.2f} MB)\")\n",
    "    return zip_name"
   ]
  },
  {
   "cell_type": "code",
   "execution_count": 34,
   "id": "36dfd09b",
   "metadata": {},
   "outputs": [],
   "source": [
    "\n",
    "# Crea una nuova deposizione\n",
    "def create_deposition():\n",
    "    url = 'https://zenodo.org/api/deposit/depositions'\n",
    "    headers = {\"Content-Type\": \"application/json\"}\n",
    "    params = {'access_token': ACCESS_TOKEN}\n",
    "\n",
    "    data = {\n",
    "        'metadata': {\n",
    "            'title': 'Dataset_INRIA',\n",
    "            'upload_type': 'organoid tiff',\n",
    "            'description': 'Dataset tiff dataset',\n",
    "            'creators': [{'name': 'Dataset_INRIA_organoid'}]\n",
    "        }\n",
    "    }\n",
    "\n",
    "    r = requests.post(url, params=params, data=json.dumps(data), headers=headers)\n",
    "    return r.json()\n",
    "\n",
    "# Carica il file\n",
    "def upload_file(deposition_id, file_path):\n",
    "    # Get bucket URL\n",
    "    url = f'https://zenodo.org/api/deposit/depositions/{deposition_id}'\n",
    "    params = {'access_token': ACCESS_TOKEN}\n",
    "    r = requests.get(url, params=params)\n",
    "    bucket_url = r.json()[\"links\"][\"bucket\"]\n",
    "\n",
    "    # Upload file\n",
    "    filename = os.path.basename(file_path)\n",
    "    with open(file_path, \"rb\") as fp:\n",
    "        r = requests.put(f\"{bucket_url}/{filename}\",\n",
    "                        data=fp,\n",
    "                        params=params)\n",
    "    return r.json()\n",
    "\n",
    "# Pubblica il dataset\n",
    "def publish_deposition(deposition_id):\n",
    "    url = f'https://zenodo.org/api/deposit/depositions/{deposition_id}/actions/publish'\n",
    "    params = {'access_token': ACCESS_TOKEN}\n",
    "    r = requests.post(url, params=params)\n",
    "    return r.json()\n"
   ]
  },
  {
   "cell_type": "code",
   "execution_count": 35,
   "id": "1c516d39",
   "metadata": {},
   "outputs": [
    {
     "name": "stdout",
     "output_type": "stream",
     "text": [
      "🗜️ Creando archivio ZIP: /Volumes/Elements/Organoides/DatasetINRIA_Organoids.zip\n"
     ]
    },
    {
     "ename": "OSError",
     "evalue": "[Errno 30] Read-only file system: '/Volumes/Elements/Organoides/DatasetINRIA_Organoids.zip'",
     "output_type": "error",
     "traceback": [
      "\u001b[0;31m---------------------------------------------------------------------------\u001b[0m",
      "\u001b[0;31mOSError\u001b[0m                                   Traceback (most recent call last)",
      "Cell \u001b[0;32mIn[35], line 4\u001b[0m\n\u001b[1;32m      2\u001b[0m folder_to_upload \u001b[38;5;241m=\u001b[39m url  \u001b[38;5;66;03m# Cambia con il percorso della tua cartella\u001b[39;00m\n\u001b[1;32m      3\u001b[0m zip_filename \u001b[38;5;241m=\u001b[39m url_dest  \u001b[38;5;66;03m# Nome dell'archivio\u001b[39;00m\n\u001b[0;32m----> 4\u001b[0m zip_path \u001b[38;5;241m=\u001b[39m \u001b[43mcreate_zip_archive\u001b[49m\u001b[43m(\u001b[49m\u001b[43mfolder_to_upload\u001b[49m\u001b[43m,\u001b[49m\u001b[43m \u001b[49m\u001b[43mzip_filename\u001b[49m\u001b[43m)\u001b[49m\n",
      "Cell \u001b[0;32mIn[33], line 11\u001b[0m, in \u001b[0;36mcreate_zip_archive\u001b[0;34m(folder_path, zip_name)\u001b[0m\n\u001b[1;32m      7\u001b[0m     zip_name \u001b[38;5;241m=\u001b[39m \u001b[38;5;124mf\u001b[39m\u001b[38;5;124m\"\u001b[39m\u001b[38;5;132;01m{\u001b[39;00mos\u001b[38;5;241m.\u001b[39mpath\u001b[38;5;241m.\u001b[39mbasename(folder_path)\u001b[38;5;132;01m}\u001b[39;00m\u001b[38;5;124m.zip\u001b[39m\u001b[38;5;124m\"\u001b[39m\n\u001b[1;32m      9\u001b[0m \u001b[38;5;28mprint\u001b[39m(\u001b[38;5;124mf\u001b[39m\u001b[38;5;124m\"\u001b[39m\u001b[38;5;124m🗜️ Creando archivio ZIP: \u001b[39m\u001b[38;5;132;01m{\u001b[39;00mzip_name\u001b[38;5;132;01m}\u001b[39;00m\u001b[38;5;124m\"\u001b[39m)\n\u001b[0;32m---> 11\u001b[0m \u001b[38;5;28;01mwith\u001b[39;00m \u001b[43mzipfile\u001b[49m\u001b[38;5;241;43m.\u001b[39;49m\u001b[43mZipFile\u001b[49m\u001b[43m(\u001b[49m\u001b[43mzip_name\u001b[49m\u001b[43m,\u001b[49m\u001b[43m \u001b[49m\u001b[38;5;124;43m'\u001b[39;49m\u001b[38;5;124;43mw\u001b[39;49m\u001b[38;5;124;43m'\u001b[39;49m\u001b[43m,\u001b[49m\u001b[43m \u001b[49m\u001b[43mzipfile\u001b[49m\u001b[38;5;241;43m.\u001b[39;49m\u001b[43mZIP_DEFLATED\u001b[49m\u001b[43m)\u001b[49m \u001b[38;5;28;01mas\u001b[39;00m zipf:\n\u001b[1;32m     12\u001b[0m     \u001b[38;5;28;01mfor\u001b[39;00m root, dirs, files \u001b[38;5;129;01min\u001b[39;00m os\u001b[38;5;241m.\u001b[39mwalk(folder_path):\n\u001b[1;32m     13\u001b[0m         \u001b[38;5;28;01mfor\u001b[39;00m file \u001b[38;5;129;01min\u001b[39;00m files:\n",
      "File \u001b[0;32m/Library/Frameworks/Python.framework/Versions/3.11/lib/python3.11/zipfile.py:1283\u001b[0m, in \u001b[0;36mZipFile.__init__\u001b[0;34m(self, file, mode, compression, allowZip64, compresslevel, strict_timestamps, metadata_encoding)\u001b[0m\n\u001b[1;32m   1281\u001b[0m \u001b[38;5;28;01mwhile\u001b[39;00m \u001b[38;5;28;01mTrue\u001b[39;00m:\n\u001b[1;32m   1282\u001b[0m     \u001b[38;5;28;01mtry\u001b[39;00m:\n\u001b[0;32m-> 1283\u001b[0m         \u001b[38;5;28mself\u001b[39m\u001b[38;5;241m.\u001b[39mfp \u001b[38;5;241m=\u001b[39m io\u001b[38;5;241m.\u001b[39mopen(file, filemode)\n\u001b[1;32m   1284\u001b[0m     \u001b[38;5;28;01mexcept\u001b[39;00m \u001b[38;5;167;01mOSError\u001b[39;00m:\n\u001b[1;32m   1285\u001b[0m         \u001b[38;5;28;01mif\u001b[39;00m filemode \u001b[38;5;129;01min\u001b[39;00m modeDict:\n",
      "\u001b[0;31mOSError\u001b[0m: [Errno 30] Read-only file system: '/Volumes/Elements/Organoides/DatasetINRIA_Organoids.zip'"
     ]
    }
   ],
   "source": [
    "# Percorso della cartella da caricare\n",
    "folder_to_upload = url  # Cambia con il percorso della tua cartella\n",
    "zip_filename = url_dest  # Nome dell'archivio\n",
    "zip_path = create_zip_archive(folder_to_upload, zip_filename)"
   ]
  },
  {
   "cell_type": "code",
   "execution_count": null,
   "id": "0c6e9e23",
   "metadata": {},
   "outputs": [],
   "source": [
    "# Esegui l'upload\n",
    "print(\"Creando deposizione...\")\n",
    "deposition = create_deposition()\n",
    "deposition_id = deposition['id']\n",
    "\n",
    "print(f\"Caricando file... (ID: {deposition_id})\")\n",
    "upload_result = upload_file(deposition_id, zip_filename)\n",
    "\n",
    "print(\"Pubblicando dataset...\")\n",
    "publication = publish_deposition(deposition_id)\n",
    "\n",
    "print(f\"Dataset pubblicato! DOI: {publication['doi']}\")\n",
    "print(f\"URL: {publication['links']['record_html']}\")\n"
   ]
  }
 ],
 "metadata": {
  "kernelspec": {
   "display_name": "Python 3",
   "language": "python",
   "name": "python3"
  },
  "language_info": {
   "codemirror_mode": {
    "name": "ipython",
    "version": 3
   },
   "file_extension": ".py",
   "mimetype": "text/x-python",
   "name": "python",
   "nbconvert_exporter": "python",
   "pygments_lexer": "ipython3",
   "version": "3.11.3"
  }
 },
 "nbformat": 4,
 "nbformat_minor": 5
}
